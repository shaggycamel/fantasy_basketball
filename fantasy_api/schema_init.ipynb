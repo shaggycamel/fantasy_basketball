{
 "cells": [
  {
   "cell_type": "code",
   "execution_count": 171,
   "id": "a0bc6b88-6d02-4a4f-a8cf-a4fa1df711e5",
   "metadata": {},
   "outputs": [],
   "source": [
    "import espn_api.basketball as bb\n",
    "from datetime import date, timedelta\n",
    "\n",
    "LetsGetTropical = bb.League(\n",
    "    league_id=1966813226, \n",
    "    year=2023,\n",
    "    espn_s2='AEBxJ8i6hR4erhDR%2B%2F9oCCkZrfl61R6BC%2Fbmzsxh6Dfh2mMe%2BLUXBDPL8WbhdArQ5mXeKF58lWIPSaQeDfK1jCUT%2BgE6TEGw7O8ZGRzoNC8sQ5wD5VUb%2FevTcpAYdBaSk7yRqRKNr41l2jzxgS4M9ZUyh3WvrOP8PQQZQWp%2BvnhuIi3%2F8sJNxRBC0prRQg5whXEfaLKkKdL641IASDuDUISI9%2BlWPj8RSWPO7rvbtsao57Qz%2Bxxybe6D2G5D5%2BXuBD6SFlvHT7kjX%2B81j8OSsjqe', \n",
    "    swid='{65841A9D-0A7D-4E82-A2BD-25B825CBF245}'\n",
    ")"
   ]
  },
  {
   "cell_type": "markdown",
   "id": "75f9d7ca-a1fd-4101-9555-0b687543edf1",
   "metadata": {},
   "source": [
    "teams_df"
   ]
  },
  {
   "cell_type": "code",
   "execution_count": 212,
   "id": "26e93d9f-6920-4d20-a202-6dd2b2c10d84",
   "metadata": {},
   "outputs": [],
   "source": [
    "teams_df = []\n",
    "for team in LetsGetTropical.teams:\n",
    "    teams_df.append({\n",
    "        'team_id': team.team_id,\n",
    "        'team_name': team.team_name,\n",
    "        'division': team.division_name,\n",
    "        # 'team_object': team,\n",
    "        'logo': team.logo_url\n",
    "    })\n",
    "\n",
    "teams_df = pd.DataFrame(teams_df)\n",
    "teams_df.to_parquet('teams.pq')"
   ]
  },
  {
   "cell_type": "markdown",
   "id": "b06c30ea-08f0-4b83-891c-09eeaf0d0192",
   "metadata": {},
   "source": [
    "schedule_df"
   ]
  },
  {
   "cell_type": "code",
   "execution_count": 242,
   "id": "8624919e-edfe-4ce0-a6cb-6a4c898dc092",
   "metadata": {},
   "outputs": [],
   "source": [
    "start_date = date(2022, 10, 17)\n",
    "end_date = date(2023, 4, 9)\n",
    "weeks = abs(start_date - end_date).days // 7\n",
    "\n",
    "schedule_df = pd.DataFrame({\n",
    "    'matchup_period': range(weeks+1),\n",
    "    'start_date': [start_date + timedelta(weeks=w) for w in range(weeks+1)]\n",
    "})\n",
    "schedule_df['end_date'] = schedule_df['start_date'] + timedelta(days=6)\n",
    "\n",
    "schedule_df.to_parquet('schedule.pq')"
   ]
  },
  {
   "cell_type": "code",
   "execution_count": null,
   "id": "98a15c8a-fcef-49fe-9c12-6df971b5e81c",
   "metadata": {},
   "outputs": [],
   "source": []
  }
 ],
 "metadata": {
  "kernelspec": {
   "display_name": "Python 3 (ipykernel)",
   "language": "python",
   "name": "python3"
  },
  "language_info": {
   "codemirror_mode": {
    "name": "ipython",
    "version": 3
   },
   "file_extension": ".py",
   "mimetype": "text/x-python",
   "name": "python",
   "nbconvert_exporter": "python",
   "pygments_lexer": "ipython3",
   "version": "3.8.15"
  }
 },
 "nbformat": 4,
 "nbformat_minor": 5
}

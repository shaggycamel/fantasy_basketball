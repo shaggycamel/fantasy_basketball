{
 "cells": [
  {
   "cell_type": "code",
   "execution_count": 7,
   "id": "6d6e8fe9-35d2-4bcc-b63f-03344cac6ced",
   "metadata": {},
   "outputs": [],
   "source": [
    "import pandas as pd\n",
    "import time\n",
    "from nba_api.stats.static import teams\n",
    "from nba_api.stats.static import players\n",
    "\n",
    "active_players = pd.DataFrame(players.get_active_players())"
   ]
  },
  {
   "cell_type": "code",
   "execution_count": 2,
   "id": "b329cdd2-3c65-4d98-ab36-4bbee6745a5f",
   "metadata": {},
   "outputs": [],
   "source": [
    "from nba_api.stats.endpoints import playerdashboardbylastngames"
   ]
  },
  {
   "cell_type": "code",
   "execution_count": null,
   "id": "761a9446-a794-49a1-8d74-022e75ec5809",
   "metadata": {},
   "outputs": [],
   "source": [
    "active_players['id' == list(ix)[0]]"
   ]
  },
  {
   "cell_type": "code",
   "execution_count": 37,
   "id": "f35cbc00-01fa-4fd5-b65f-db4d9af538a6",
   "metadata": {},
   "outputs": [],
   "source": [
    "## new index\n",
    "df.to_parquet('playerlastngames.pq')\n",
    "df = pd.read_parquet('playerlastngames.pq')\n",
    "ix = df.tail(1)['player_id']\n",
    "ix = active_players[active_players['id'] == list(ix)[0]].index[0] + 1"
   ]
  },
  {
   "cell_type": "code",
   "execution_count": 37,
   "id": "9b6fc1a6-e8d9-4b0c-b85f-e8ca52639a23",
   "metadata": {},
   "outputs": [],
   "source": [
    "## write to pq\n",
    "df_t = pd.read_parquet('playerlastngames.pq')\n",
    "df = pd.concat([df_t, df], ignore_index=True).drop_duplicates().reset_index(drop=True)\n",
    "df.to_parquet('playerlastngames.pq')"
   ]
  },
  {
   "cell_type": "code",
   "execution_count": null,
   "id": "f8abd65b-a59f-4dec-bac4-c6821ee2bfa7",
   "metadata": {},
   "outputs": [
    {
     "name": "stdout",
     "output_type": "stream",
     "text": [
      "sleeping...  -  Thu Dec 22 13:05:36 2022\n",
      "player: 300 / 582\n",
      "sleeping...  -  Thu Dec 22 13:25:22 2022\n",
      "player: 350 / 582\n",
      "player: 400 / 582\n",
      "sleeping...  -  Thu Dec 22 13:45:18 2022\n"
     ]
    }
   ],
   "source": [
    "df = pd.DataFrame() \n",
    "\n",
    "# for i in range(0, len(active_players)):\n",
    "for i in range(ix, len(active_players)):\n",
    "    n = playerdashboardbylastngames.PlayerDashboardByLastNGames(active_players['id'][i])\n",
    "    n = pd.concat(n.get_data_frames(), ignore_index=True)\n",
    "    n['player_id'] = active_players['id'][i]\n",
    "    df = pd.concat([df, n], ignore_index=True)\n",
    "    # print('player:', i, '/', len(active_players), ' - ', active_players['id'][i])\n",
    "    if i % 70  == 0:\n",
    "        print('sleeping...  - ', time.asctime(time.localtime()))\n",
    "        time.sleep(60 * 10)\n",
    "    if i % 50 == 0: print('player:', i, '/', len(active_players))\n",
    "print('player:', i, '/', len(active_players))\n",
    "    "
   ]
  },
  {
   "cell_type": "code",
   "execution_count": null,
   "id": "f0376ac0-499f-4171-a591-ce3cd342f489",
   "metadata": {},
   "outputs": [],
   "source": []
  }
 ],
 "metadata": {
  "kernelspec": {
   "display_name": "Python 3 (ipykernel)",
   "language": "python",
   "name": "python3"
  },
  "language_info": {
   "codemirror_mode": {
    "name": "ipython",
    "version": 3
   },
   "file_extension": ".py",
   "mimetype": "text/x-python",
   "name": "python",
   "nbconvert_exporter": "python",
   "pygments_lexer": "ipython3",
   "version": "3.8.15"
  }
 },
 "nbformat": 4,
 "nbformat_minor": 5
}

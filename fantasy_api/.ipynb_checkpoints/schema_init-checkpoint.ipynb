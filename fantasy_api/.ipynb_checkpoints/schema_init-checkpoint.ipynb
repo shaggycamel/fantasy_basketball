{
 "cells": [
  {
   "cell_type": "code",
   "execution_count": 2,
   "id": "b413aea3-8c4a-4fc6-8f34-b67aad17f5cf",
   "metadata": {},
   "outputs": [],
   "source": [
    "import numpy as np\n",
    "import pandas as pd\n",
    "import espn_api.basketball as bb\n",
    "\n",
    "LetsGetTropical = bb.League(\n",
    "    league_id=1966813226, \n",
    "    year=2023,\n",
    "    espn_s2='AEBxJ8i6hR4erhDR%2B%2F9oCCkZrfl61R6BC%2Fbmzsxh6Dfh2mMe%2BLUXBDPL8WbhdArQ5mXeKF58lWIPSaQeDfK1jCUT%2BgE6TEGw7O8ZGRzoNC8sQ5wD5VUb%2FevTcpAYdBaSk7yRqRKNr41l2jzxgS4M9ZUyh3WvrOP8PQQZQWp%2BvnhuIi3%2F8sJNxRBC0prRQg5whXEfaLKkKdL641IASDuDUISI9%2BlWPj8RSWPO7rvbtsao57Qz%2Bxxybe6D2G5D5%2BXuBD6SFlvHT7kjX%2B81j8OSsjqe', \n",
    "    swid='{65841A9D-0A7D-4E82-A2BD-25B825CBF245}'\n",
    ")"
   ]
  },
  {
   "cell_type": "code",
   "execution_count": 97,
   "id": "f862dae4-1aff-4e4c-a6d8-1a9a17ef005d",
   "metadata": {},
   "outputs": [],
   "source": [
    "teams_dict = {el.team_name: el for el in LetsGetTropical.teams}\n",
    "teams_obj = list(teams_dict.values())"
   ]
  },
  {
   "cell_type": "code",
   "execution_count": 101,
   "id": "4137faef-0b4f-44bd-b549-150d76959fd4",
   "metadata": {},
   "outputs": [
    {
     "name": "stdout",
     "output_type": "stream",
     "text": [
      "Philly 5 ⭐️ Men\n",
      "[Player(James Harden), Player(Trae Young), Player(Anthony Davis), Player(Zion Williamson), Player(Kristaps Porzingis), Player(Brandon Ingram), Player(Khris Middleton), Player(Shai Gilgeous-Alexander), Player(Josh Giddey), Player(CJ McCollum), Player(Jamal Murray), Player(Russell Westbrook), Player(Tobias Harris), Player(Robert Williams III)] \n",
      "\n",
      "El Barto \n",
      "[Player(Stephen Curry), Player(Karl-Anthony Towns), Player(Fred VanVleet), Player(Anthony Edwards), Player(Myles Turner), Player(Paolo Banchero), Player(Deandre Ayton), Player(De'Aaron Fox), Player(Jordan Poole), Player(Jerami Grant), Player(Bobby Portis), Player(Tre Jones), Player(De'Anthony Melton), Player(Alperen Sengun)] \n",
      "\n",
      "Hawkes Bay Bombers\n",
      "[Player(Kevin Durant), Player(Bam Adebayo), Player(Dejounte Murray), Player(Pascal Siakam), Player(Jimmy Butler), Player(Buddy Hield), Player(Jrue Holiday), Player(D'Angelo Russell), Player(Kyle Kuzma), Player(Marcus Smart), Player(Chris Paul), Player(Tim Hardaway Jr.), Player(Jonas Valanciunas), Player(Bogdan Bogdanovic)] \n",
      "\n",
      "Ashhurst Beasthunters\n",
      "[Player(Ja Morant), Player(DeMar DeRozan), Player(Donovan Mitchell), Player(Bradley Beal), Player(Nikola Vucevic), Player(John Collins), Player(Collin Sexton), Player(Kevin Porter Jr.), Player(Spencer Dinwiddie), Player(Bojan Bogdanovic), Player(Jakob Poeltl), Player(Keldon Johnson), Player(RJ Barrett), Player(Jalen Green)] \n",
      "\n",
      "Naboo Fred-Ball\n",
      "[Player(Joel Embiid), Player(LaMelo Ball), Player(Zach LaVine), Player(Julius Randle), Player(Kyle Lowry), Player(Bol Bol), Player(Jaden McDaniels), Player(Malik Beasley), Player(Walker Kessler), Player(Deni Avdija), Player(Scottie Barnes), Player(Rudy Gobert), Player(Jabari Smith Jr.), Player(Quentin Grimes)] \n",
      "\n",
      "Capital city Cantz\n",
      "[Player(Nikola Jokic), Player(LeBron James), Player(Jaylen Brown), Player(Tyrese Maxey), Player(Lauri Markkanen), Player(Jalen Brunson), Player(Andrew Wiggins), Player(Anfernee Simons), Player(Mikal Bridges), Player(Draymond Green), Player(Brook Lopez), Player(Aaron Gordon), Player(Kelly Oubre Jr.), Player(Dillon Brooks)] \n",
      "\n",
      "Manawatu McGregor \n",
      "[Player(Giannis Antetokounmpo), Player(Damian Lillard), Player(Devin Booker), Player(Paul George), Player(Domantas Sabonis), Player(Michael Porter Jr.), Player(Darius Garland), Player(Jarrett Allen), Player(Klay Thompson), Player(Franz Wagner), Player(O.G. Anunoby), Player(Jusuf Nurkic), Player(Jordan Clarkson), Player(Nic Claxton)] \n",
      "\n",
      "Taranaki  Thunder\n",
      "[Player(Luka Doncic), Player(Jayson Tatum), Player(Tyrese Haliburton), Player(Evan Mobley), Player(Desmond Bane), Player(Christian Wood), Player(Tyler Herro), Player(Jaren Jackson Jr.), Player(Devin Vassell), Player(Ben Simmons), Player(Kawhi Leonard), Player(Kyrie Irving), Player(Markelle Fultz), Player(Mitchell Robinson)] \n",
      "\n"
     ]
    }
   ],
   "source": [
    "for team in teams_obj:\n",
    "    print(team.team_name)\n",
    "    print(team.roster, '\\n')"
   ]
  },
  {
   "cell_type": "code",
   "execution_count": 94,
   "id": "ceb9f263-2a0b-4cd1-b8f6-cd31b0d0e755",
   "metadata": {},
   "outputs": [
    {
     "data": {
      "text/plain": [
       "{'Philly 5 ⭐️ Men': 0,\n",
       " 'El Barto ': Team(El Barto ),\n",
       " 'Hawkes Bay Bombers': Team(Hawkes Bay Bombers),\n",
       " 'Ashhurst Beasthunters': Team(Ashhurst Beasthunters),\n",
       " 'Naboo Fred-Ball': Team(Naboo Fred-Ball),\n",
       " 'Capital city Cantz': Team(Capital city Cantz),\n",
       " 'Manawatu McGregor ': Team(Manawatu McGregor ),\n",
       " 'Taranaki  Thunder': Team(Taranaki  Thunder)}"
      ]
     },
     "execution_count": 94,
     "metadata": {},
     "output_type": "execute_result"
    }
   ],
   "source": [
    "teams"
   ]
  },
  {
   "cell_type": "code",
   "execution_count": 52,
   "id": "34fca10b-7a69-43a6-8290-6ab1972a5048",
   "metadata": {},
   "outputs": [
    {
     "data": {
      "text/plain": [
       "{'130': {'team': 'MEM', 'date': datetime.datetime(2023, 2, 24, 13, 30)},\n",
       " '2': {'team': 'BOS', 'date': datetime.datetime(2022, 10, 19, 12, 30)},\n",
       " '132': {'team': 'BOS', 'date': datetime.datetime(2023, 2, 26, 14, 30)},\n",
       " '4': {'team': 'MIL', 'date': datetime.datetime(2022, 10, 21, 12, 30)},\n",
       " '134': {'team': 'MIA', 'date': datetime.datetime(2023, 2, 28, 13, 0)},\n",
       " '6': {'team': 'SAS', 'date': datetime.datetime(2022, 10, 23, 11, 0)},\n",
       " '136': {'team': 'MIA', 'date': datetime.datetime(2023, 3, 2, 13, 30)},\n",
       " '8': {'team': 'IND', 'date': datetime.datetime(2022, 10, 25, 12, 0)},\n",
       " '137': {'team': 'DAL', 'date': datetime.datetime(2023, 3, 3, 13, 30)},\n",
       " '10': {'team': 'TOR', 'date': datetime.datetime(2022, 10, 27, 12, 30)},\n",
       " '139': {'team': 'MIL', 'date': datetime.datetime(2023, 3, 5, 14, 30)},\n",
       " '12': {'team': 'TOR', 'date': datetime.datetime(2022, 10, 29, 12, 30)},\n",
       " '141': {'team': 'IND', 'date': datetime.datetime(2023, 3, 7, 13, 0)},\n",
       " '13': {'team': 'CHI', 'date': datetime.datetime(2022, 10, 30, 13, 0)},\n",
       " '142': {'team': 'MIN', 'date': datetime.datetime(2023, 3, 8, 13, 30)},\n",
       " '15': {'team': 'WAS', 'date': datetime.datetime(2022, 11, 1, 12, 0)},\n",
       " '145': {'team': 'POR', 'date': datetime.datetime(2023, 3, 11, 13, 0)},\n",
       " '17': {'team': 'WAS', 'date': datetime.datetime(2022, 11, 3, 11, 0)},\n",
       " '147': {'team': 'WAS', 'date': datetime.datetime(2023, 3, 13, 11, 0)},\n",
       " '19': {'team': 'NYK', 'date': datetime.datetime(2022, 11, 5, 12, 0)},\n",
       " '150': {'team': 'CLE', 'date': datetime.datetime(2023, 3, 16, 12, 30)},\n",
       " '22': {'team': 'PHO', 'date': datetime.datetime(2022, 11, 8, 14, 0)},\n",
       " '152': {'team': 'CHA', 'date': datetime.datetime(2023, 3, 18, 12, 0)},\n",
       " '153': {'team': 'IND', 'date': datetime.datetime(2023, 3, 19, 12, 0)},\n",
       " '25': {'team': 'ATL', 'date': datetime.datetime(2022, 11, 11, 13, 30)},\n",
       " '155': {'team': 'CHI', 'date': datetime.datetime(2023, 3, 21, 12, 0)},\n",
       " '27': {'team': 'ATL', 'date': datetime.datetime(2022, 11, 13, 13, 30)},\n",
       " '28': {'team': 'UTA', 'date': datetime.datetime(2022, 11, 14, 13, 30)},\n",
       " '157': {'team': 'CHI', 'date': datetime.datetime(2023, 3, 23, 13, 0)},\n",
       " '159': {'team': 'GSW', 'date': datetime.datetime(2023, 3, 25, 15, 0)},\n",
       " '160': {'team': 'PHO', 'date': datetime.datetime(2023, 3, 26, 15, 0)},\n",
       " '33': {'team': 'MIL', 'date': datetime.datetime(2022, 11, 19, 13, 30)},\n",
       " '162': {'team': 'DEN', 'date': datetime.datetime(2023, 3, 28, 14, 30)},\n",
       " '34': {'team': 'MIN', 'date': datetime.datetime(2022, 11, 20, 13, 30)},\n",
       " '164': {'team': 'DAL', 'date': datetime.datetime(2023, 3, 30, 12, 30)},\n",
       " '37': {'team': 'BKN', 'date': datetime.datetime(2022, 11, 23, 13, 30)},\n",
       " '166': {'team': 'TOR', 'date': datetime.datetime(2023, 4, 1, 12, 0)},\n",
       " '38': {'team': 'CHA', 'date': datetime.datetime(2022, 11, 24, 13, 0)},\n",
       " '168': {'team': 'MIL', 'date': datetime.datetime(2023, 4, 3, 12, 0)},\n",
       " '40': {'team': 'ORL', 'date': datetime.datetime(2022, 11, 26, 13, 0)},\n",
       " '170': {'team': 'BOS', 'date': datetime.datetime(2023, 4, 5, 12, 0)},\n",
       " '42': {'team': 'ORL', 'date': datetime.datetime(2022, 11, 28, 12, 0)},\n",
       " '43': {'team': 'ATL', 'date': datetime.datetime(2022, 11, 29, 13, 0)},\n",
       " '172': {'team': 'MIA', 'date': datetime.datetime(2023, 4, 7, 11, 30)},\n",
       " '173': {'team': 'ATL', 'date': datetime.datetime(2023, 4, 8, 11, 30)},\n",
       " '45': {'team': 'CLE', 'date': datetime.datetime(2022, 12, 1, 13, 0)},\n",
       " '175': {'team': 'BKN', 'date': datetime.datetime(2023, 4, 10, 5, 0)},\n",
       " '47': {'team': 'MEM', 'date': datetime.datetime(2022, 12, 3, 14, 0)},\n",
       " '50': {'team': 'HOU', 'date': datetime.datetime(2022, 12, 6, 14, 0)},\n",
       " '54': {'team': 'LAL', 'date': datetime.datetime(2022, 12, 10, 13, 30)},\n",
       " '56': {'team': 'CHA', 'date': datetime.datetime(2022, 12, 12, 12, 0)},\n",
       " '58': {'team': 'SAC', 'date': datetime.datetime(2022, 12, 14, 13, 0)},\n",
       " '61': {'team': 'GSW', 'date': datetime.datetime(2022, 12, 17, 13, 30)},\n",
       " '64': {'team': 'TOR', 'date': datetime.datetime(2022, 12, 20, 13, 0)},\n",
       " '66': {'team': 'DET', 'date': datetime.datetime(2022, 12, 22, 13, 0)},\n",
       " '68': {'team': 'LAC', 'date': datetime.datetime(2022, 12, 24, 13, 0)},\n",
       " '70': {'team': 'NYK', 'date': datetime.datetime(2022, 12, 26, 6, 0)},\n",
       " '72': {'team': 'WAS', 'date': datetime.datetime(2022, 12, 28, 13, 0)},\n",
       " '75': {'team': 'NOP', 'date': datetime.datetime(2022, 12, 31, 14, 30)},\n",
       " '76': {'team': 'OKC', 'date': datetime.datetime(2023, 1, 1, 14, 0)},\n",
       " '78': {'team': 'NOP', 'date': datetime.datetime(2023, 1, 3, 13, 0)},\n",
       " '80': {'team': 'IND', 'date': datetime.datetime(2023, 1, 5, 13, 0)},\n",
       " '82': {'team': 'CHI', 'date': datetime.datetime(2023, 1, 7, 13, 30)},\n",
       " '84': {'team': 'DET', 'date': datetime.datetime(2023, 1, 9, 9, 0)},\n",
       " '86': {'team': 'DET', 'date': datetime.datetime(2023, 1, 11, 13, 30)},\n",
       " '88': {'team': 'OKC', 'date': datetime.datetime(2023, 1, 13, 13, 0)},\n",
       " '90': {'team': 'UTA', 'date': datetime.datetime(2023, 1, 15, 15, 0)},\n",
       " '91': {'team': 'LAL', 'date': datetime.datetime(2023, 1, 16, 15, 30)},\n",
       " '93': {'team': 'LAC', 'date': datetime.datetime(2023, 1, 18, 16, 0)},\n",
       " '95': {'team': 'POR', 'date': datetime.datetime(2023, 1, 20, 16, 0)},\n",
       " '97': {'team': 'SAC', 'date': datetime.datetime(2023, 1, 22, 16, 0)},\n",
       " '101': {'team': 'BKN', 'date': datetime.datetime(2023, 1, 26, 13, 30)},\n",
       " '104': {'team': 'DEN', 'date': datetime.datetime(2023, 1, 29, 9, 0)},\n",
       " '106': {'team': 'ORL', 'date': datetime.datetime(2023, 1, 31, 13, 0)},\n",
       " '108': {'team': 'ORL', 'date': datetime.datetime(2023, 2, 2, 13, 0)},\n",
       " '110': {'team': 'SAS', 'date': datetime.datetime(2023, 2, 4, 14, 0)},\n",
       " '112': {'team': 'NYK', 'date': datetime.datetime(2023, 2, 6, 12, 0)},\n",
       " '115': {'team': 'BOS', 'date': datetime.datetime(2023, 2, 9, 13, 30)},\n",
       " '117': {'team': 'NYK', 'date': datetime.datetime(2023, 2, 11, 13, 0)},\n",
       " '118': {'team': 'BKN', 'date': datetime.datetime(2023, 2, 12, 12, 0)},\n",
       " '120': {'team': 'HOU', 'date': datetime.datetime(2023, 2, 14, 13, 0)},\n",
       " '122': {'team': 'CLE', 'date': datetime.datetime(2023, 2, 16, 13, 0)}}"
      ]
     },
     "execution_count": 52,
     "metadata": {},
     "output_type": "execute_result"
    }
   ],
   "source": [
    "LetsGetTropical.teams[0].roster[0].schedule"
   ]
  },
  {
   "cell_type": "code",
   "execution_count": null,
   "id": "2106ef59-2696-47da-925b-1f4c602abe76",
   "metadata": {},
   "outputs": [],
   "source": []
  }
 ],
 "metadata": {
  "kernelspec": {
   "display_name": "Python 3 (ipykernel)",
   "language": "python",
   "name": "python3"
  },
  "language_info": {
   "codemirror_mode": {
    "name": "ipython",
    "version": 3
   },
   "file_extension": ".py",
   "mimetype": "text/x-python",
   "name": "python",
   "nbconvert_exporter": "python",
   "pygments_lexer": "ipython3",
   "version": "3.8.15"
  }
 },
 "nbformat": 4,
 "nbformat_minor": 5
}

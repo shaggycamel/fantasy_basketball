{
 "cells": [
  {
   "cell_type": "code",
   "execution_count": 59,
   "id": "e1403d0e-f526-49bf-a6ab-1962c874c8e4",
   "metadata": {},
   "outputs": [],
   "source": [
    "import espn_api.basketball as bb\n",
    "import pandas as pd\n",
    "from datetime import date, timedelta\n",
    "from os.path import exists\n",
    "\n",
    "LetsGetTropical = bb.League(\n",
    "    league_id=1966813226, \n",
    "    year=2023,\n",
    "    espn_s2='AEBxJ8i6hR4erhDR%2B%2F9oCCkZrfl61R6BC%2Fbmzsxh6Dfh2mMe%2BLUXBDPL8WbhdArQ5mXeKF58lWIPSaQeDfK1jCUT%2BgE6TEGw7O8ZGRzoNC8sQ5wD5VUb%2FevTcpAYdBaSk7yRqRKNr41l2jzxgS4M9ZUyh3WvrOP8PQQZQWp%2BvnhuIi3%2F8sJNxRBC0prRQg5whXEfaLKkKdL641IASDuDUISI9%2BlWPj8RSWPO7rvbtsao57Qz%2Bxxybe6D2G5D5%2BXuBD6SFlvHT7kjX%2B81j8OSsjqe', \n",
    "    swid='{65841A9D-0A7D-4E82-A2BD-25B825CBF245}'\n",
    ")"
   ]
  },
  {
   "cell_type": "code",
   "execution_count": 55,
   "id": "ac9ef857-21ed-43c7-a0f4-8e58e22aefef",
   "metadata": {},
   "outputs": [],
   "source": [
    "daily_df = []\n",
    "for team in LetsGetTropical.teams:\n",
    "    for player in team.roster:\n",
    "        daily_df.append({\n",
    "            'game_date': date.today() - timedelta(days=1),\n",
    "            'team_id': team.team_id,\n",
    "            'player_id': player.playerId,\n",
    "            'player_name': player.name,\n",
    "            'player_team': player.proTeam,\n",
    "            'player_status': player.injuryStatus,\n",
    "            'player_team_slot': player.lineupSlot\n",
    "        }) \n",
    "\n",
    "daily_df = pd.DataFrame(daily_df)\n",
    "if exists('daily.pq'): daily_df = pd.concat([pd.read_parquet('daily.pq'), daily_df])\n",
    "daily_df.to_parquet('daily.pq')"
   ]
  },
  {
   "cell_type": "code",
   "execution_count": null,
   "id": "4e25c743-e9a4-4118-b9be-77572e658689",
   "metadata": {},
   "outputs": [],
   "source": []
  }
 ],
 "metadata": {
  "kernelspec": {
   "display_name": "Python 3 (ipykernel)",
   "language": "python",
   "name": "python3"
  },
  "language_info": {
   "codemirror_mode": {
    "name": "ipython",
    "version": 3
   },
   "file_extension": ".py",
   "mimetype": "text/x-python",
   "name": "python",
   "nbconvert_exporter": "python",
   "pygments_lexer": "ipython3",
   "version": "3.8.15"
  }
 },
 "nbformat": 4,
 "nbformat_minor": 5
}

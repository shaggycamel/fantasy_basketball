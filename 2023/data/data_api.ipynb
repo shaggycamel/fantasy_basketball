{
 "cells": [
  {
   "cell_type": "code",
   "execution_count": 1,
   "id": "7d4f9c7c-135a-47a5-a84f-0456c5f0dd23",
   "metadata": {},
   "outputs": [],
   "source": [
    "import pandas as pd\n",
    "import requests\n",
    "import os\n",
    "\n",
    "timeout = 3600 + 600 # 1hour & 10mins\n",
    "max_season = 2021 \n",
    "player_id=2544 # LeBron James\n",
    "team_id=1610612737 # Atlanta Hawks"
   ]
  },
  {
   "cell_type": "code",
   "execution_count": 2,
   "id": "afd248b6-4c74-4092-9bbb-4bfc538a428b",
   "metadata": {},
   "outputs": [],
   "source": [
    "from nba_api.stats.static import teams\n",
    "from nba_api.stats.static import players\n",
    "\n",
    "# get_teams returns a list of dictionaries, each an NBA team.\n",
    "nba_teams = teams.get_teams()\n",
    "# pd.DataFrame(nba_teams).to_parquet('.parquet/Teams.pq')\n",
    "\n",
    "# get_players returns a list of dictionaries, each representing a player.\n",
    "nba_players = players.get_active_players()\n",
    "# pd.DataFrame(nba_players).to_parquet('.parquet/Players.pq')"
   ]
  },
  {
   "cell_type": "code",
   "execution_count": 17,
   "id": "b17f0503-32c2-4051-9dfc-cfaa4cd1bf3b",
   "metadata": {},
   "outputs": [],
   "source": [
    "# execfile('api_calls/playercareerstats.py') # playercareerstats\n",
    "# execfile('api_calls/playergamelog.py') # playergamelog\n",
    "# execfile('api_calls/commonplayerinfo.py') # commonplayerinfo\n",
    "# execfile('api_calls/teamgamelog.py') # teamgamelog\n",
    "# execfile('api_calls/boxscoretraditionalv2.py') # boxscoretraditionalv2\n",
    "# execfile('api_calls/gamerotation.py') # gamerotation\n",
    "# execfile('api_calls/commonteamroster.py') # commonteamroster\n",
    "# execfile('api_calls/leagueschedule_history.py') # leagueschedule_history\n",
    "# execfile('api_calls/leagueschedule_current.py') # leagueschedule_current"
   ]
  },
  {
   "cell_type": "code",
   "execution_count": null,
   "id": "5f91b448-d32c-4695-816e-28349af5eb96",
   "metadata": {},
   "outputs": [],
   "source": []
  }
 ],
 "metadata": {
  "kernelspec": {
   "display_name": "Python 3 (ipykernel)",
   "language": "python",
   "name": "python3"
  },
  "language_info": {
   "codemirror_mode": {
    "name": "ipython",
    "version": 3
   },
   "file_extension": ".py",
   "mimetype": "text/x-python",
   "name": "python",
   "nbconvert_exporter": "python",
   "pygments_lexer": "ipython3",
   "version": "3.9.13"
  }
 },
 "nbformat": 4,
 "nbformat_minor": 5
}

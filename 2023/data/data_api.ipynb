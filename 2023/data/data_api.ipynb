{
 "cells": [
  {
   "cell_type": "code",
   "execution_count": 16,
   "id": "7d4f9c7c-135a-47a5-a84f-0456c5f0dd23",
   "metadata": {},
   "outputs": [],
   "source": [
    "import pandas as pd\n",
    "import os"
   ]
  },
  {
   "cell_type": "markdown",
   "id": "35d2dce3-374a-4508-a990-2705d7b41343",
   "metadata": {},
   "source": [
    "stats.static"
   ]
  },
  {
   "cell_type": "code",
   "execution_count": 18,
   "id": "afd248b6-4c74-4092-9bbb-4bfc538a428b",
   "metadata": {},
   "outputs": [],
   "source": [
    "from nba_api.stats.static import teams\n",
    "from nba_api.stats.static import players\n",
    "# (player_id=2544) -- LeBron James\n",
    "\n",
    "\n",
    "# get_teams returns a list of dictionaries, each an NBA team.\n",
    "nba_teams = teams.get_teams()\n",
    "# pd.DataFrame(nba_teams).to_parquet('.parquet/Teams.pq')\n",
    "\n",
    "# get_players returns a list of dictionaries, each representing a player.\n",
    "nba_players = players.get_active_players()\n",
    "# pd.DataFrame(nba_players).to_parquet('.parquet/Players.pq')"
   ]
  },
  {
   "cell_type": "markdown",
   "id": "aceb04ca-5daa-4995-8623-4309511b186c",
   "metadata": {},
   "source": [
    "stats.endpoints playercareerstats"
   ]
  },
  {
   "cell_type": "code",
   "execution_count": 5,
   "id": "73966f9d-d31a-4929-9199-c52fee27ee57",
   "metadata": {},
   "outputs": [],
   "source": [
    "from nba_api.stats.endpoints import playercareerstats\n",
    "\n",
    "# df = pd.DataFrame()  \n",
    "# for i in range(0, len(nba_players)):\n",
    "#     # player_career = playercareerstats.PlayerCareerStats(player_id=str(nba_players[i]['id']), timeout=3600 + 600) # 1hour & 10mins\n",
    "#     p = player_career.data_sets[0].get_data_frame()\n",
    "#     df = pd.concat([df, p], ignore_index=True)\n",
    "#     if i % 50 == 0: print('player:', i, '/', len(nba_players))\n",
    "# print('player:', i, '/', len(nba_players))\n",
    "\n",
    "# df.to_parquet('.parquet/PlayerCareerStats.pq')"
   ]
  },
  {
   "cell_type": "markdown",
   "id": "764b6c6b-059a-4c5e-9bd3-46eabb95b944",
   "metadata": {},
   "source": [
    "stats.endpoints playergamelog"
   ]
  },
  {
   "cell_type": "code",
   "execution_count": 44,
   "id": "8f79efee-bb92-47ab-89d1-c62dadab0f77",
   "metadata": {},
   "outputs": [],
   "source": [
    "from nba_api.stats.endpoints import playergamelog\n",
    "\n",
    "# df = pd.DataFrame() \n",
    "# max_season = 2021 \n",
    "# for i in range(0, len(nba_players)):\n",
    "#     for y in range(max_season-4, max_season+1):\n",
    "#         \n",
    "#         p = player_gamelog.data_sets[0].get_data_frame()\n",
    "#         df = pd.concat([df, p], ignore_index=True)\n",
    "#         if i % 50 == 0 and y == max_season: print('player:', i, '/', len(nba_players))\n",
    "# print('player:', i, '/', len(nba_players))\n",
    "\n",
    "# df.to_parquet('.parquet/PlayerGameLog.pq')"
   ]
  },
  {
   "cell_type": "markdown",
   "id": "aedfd276-7511-42c6-93d7-153f0cca3d4e",
   "metadata": {},
   "source": [
    "stats.endpoints commonplayerinfo"
   ]
  },
  {
   "cell_type": "code",
   "execution_count": 20,
   "id": "356e2684-600b-4c82-bbb8-f8a4669164e1",
   "metadata": {},
   "outputs": [
    {
     "name": "stdout",
     "output_type": "stream",
     "text": [
      "player: 0 / 587\n",
      "player: 50 / 587\n",
      "player: 100 / 587\n",
      "player: 150 / 587\n",
      "player: 200 / 587\n",
      "player: 250 / 587\n",
      "player: 300 / 587\n",
      "player: 350 / 587\n",
      "player: 400 / 587\n",
      "player: 450 / 587\n",
      "player: 500 / 587\n",
      "player: 550 / 587\n",
      "player: 586 / 587\n"
     ]
    }
   ],
   "source": [
    "from nba_api.stats.endpoints import commonplayerinfo\n",
    "\n",
    "df = pd.DataFrame()\n",
    "for i in range(0, len(nba_players)):\n",
    "    player_info = commonplayerinfo.CommonPlayerInfo(player_id=str(nba_players[i]['id']), timeout=3600 + 600) # 1hour & 10mins\n",
    "    p = player_info.data_sets[0].get_data_frame()\n",
    "    df = pd.concat([df, p], ignore_index=True)\n",
    "    if i % 50 == 0: print('player:', i, '/', len(nba_players))\n",
    "print('player:', i, '/', len(nba_players))\n",
    "    \n",
    "df.to_parquet('.parquet/PlayerInfo.pq')"
   ]
  },
  {
   "cell_type": "code",
   "execution_count": null,
   "id": "cc753b77-8cd5-43d4-97d1-32f7df0f45fc",
   "metadata": {},
   "outputs": [],
   "source": []
  }
 ],
 "metadata": {
  "kernelspec": {
   "display_name": "Python 3 (ipykernel)",
   "language": "python",
   "name": "python3"
  },
  "language_info": {
   "codemirror_mode": {
    "name": "ipython",
    "version": 3
   },
   "file_extension": ".py",
   "mimetype": "text/x-python",
   "name": "python",
   "nbconvert_exporter": "python",
   "pygments_lexer": "ipython3",
   "version": "3.9.13"
  }
 },
 "nbformat": 4,
 "nbformat_minor": 5
}

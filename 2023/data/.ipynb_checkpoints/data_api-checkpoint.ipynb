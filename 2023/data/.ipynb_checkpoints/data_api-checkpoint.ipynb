{
 "cells": [
  {
   "cell_type": "code",
   "execution_count": 85,
   "id": "7d4f9c7c-135a-47a5-a84f-0456c5f0dd23",
   "metadata": {},
   "outputs": [],
   "source": [
    "import pandas as pd\n",
    "import requests\n",
    "import os\n",
    "\n",
    "timeout = 3600 + 600 # 1hour & 10mins\n",
    "max_season = 2021 \n",
    "player_id=2544 # LeBron James\n",
    "team_id=1610612737 # Atlanta Hawks"
   ]
  },
  {
   "cell_type": "code",
   "execution_count": 86,
   "id": "afd248b6-4c74-4092-9bbb-4bfc538a428b",
   "metadata": {},
   "outputs": [],
   "source": [
    "from nba_api.stats.static import teams\n",
    "from nba_api.stats.static import players\n",
    "\n",
    "# get_teams returns a list of dictionaries, each an NBA team.\n",
    "nba_teams = pd.DataFrame(teams.get_teams())\n",
    "# pd.DataFrame(nba_teams).to_parquet('.parquet/Teams.pq')\n",
    "\n",
    "# get_players returns a list of dictionaries, each representing a player.\n",
    "nba_players = pd.DataFrame(players.get_players())\n",
    "# pd.DataFrame(nba_players).to_parquet('.parquet/Players.pq')\n",
    "\n",
    "# Mininum players used in analysis\n",
    "nba_players_anl = (pd.read_parquet('./.parquet/BoxScoreTraditionalV2.pq')['PLAYER_ID']\n",
    "                   .drop_duplicates().reset_index().rename(columns={'PLAYER_ID':'id'}))"
   ]
  },
  {
   "cell_type": "code",
   "execution_count": 87,
   "id": "b17f0503-32c2-4051-9dfc-cfaa4cd1bf3b",
   "metadata": {},
   "outputs": [
    {
     "name": "stdout",
     "output_type": "stream",
     "text": [
      "\n",
      "--------------------- playergamelog\n",
      "player: 0 / 1018\n",
      "player: 50 / 1018\n",
      "player: 100 / 1018\n",
      "player: 150 / 1018\n",
      "player: 200 / 1018\n",
      "player: 250 / 1018\n",
      "player: 300 / 1018\n",
      "player: 350 / 1018\n",
      "player: 400 / 1018\n",
      "player: 450 / 1018\n",
      "player: 500 / 1018\n",
      "player: 550 / 1018\n",
      "player: 600 / 1018\n",
      "player: 650 / 1018\n",
      "player: 700 / 1018\n",
      "player: 750 / 1018\n",
      "player: 800 / 1018\n",
      "player: 850 / 1018\n",
      "player: 900 / 1018\n",
      "player: 950 / 1018\n",
      "player: 1000 / 1018\n",
      "player: 1017 / 1018\n",
      "\n",
      "\n"
     ]
    }
   ],
   "source": [
    "# execfile('api_calls/playercareerstats.py') # playercareerstats\n",
    "execfile('api_calls/playergamelog.py') # playergamelog\n",
    "# execfile('api_calls/commonplayerinfo.py') # commonplayerinfo\n",
    "# execfile('api_calls/teamgamelog.py') # teamgamelog\n",
    "# execfile('api_calls/boxscoretraditionalv2.py') # boxscoretraditionalv2\n",
    "# execfile('api_calls/gamerotation.py') # gamerotation\n",
    "# execfile('api_calls/commonteamroster.py') # commonteamroster\n",
    "# execfile('api_calls/leagueschedule_history.py') # leagueschedule_history\n",
    "# execfile('api_calls/leagueschedule_current.py') # leagueschedule_current"
   ]
  },
  {
   "cell_type": "code",
   "execution_count": null,
   "id": "5f91b448-d32c-4695-816e-28349af5eb96",
   "metadata": {},
   "outputs": [],
   "source": []
  }
 ],
 "metadata": {
  "kernelspec": {
   "display_name": "Python 3 (ipykernel)",
   "language": "python",
   "name": "python3"
  },
  "language_info": {
   "codemirror_mode": {
    "name": "ipython",
    "version": 3
   },
   "file_extension": ".py",
   "mimetype": "text/x-python",
   "name": "python",
   "nbconvert_exporter": "python",
   "pygments_lexer": "ipython3",
   "version": "3.9.13"
  }
 },
 "nbformat": 4,
 "nbformat_minor": 5
}

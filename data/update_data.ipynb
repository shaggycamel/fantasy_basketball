{
 "cells": [
  {
   "cell_type": "code",
   "execution_count": 1,
   "id": "e91b638b-16f9-404d-b272-61b12c0960a0",
   "metadata": {},
   "outputs": [],
   "source": [
    "from dataHub import dataHub\n",
    "\n",
    "dh = dataHub()\n",
    "postgres = dh.db_connect()\n",
    "fty_api = dh.fty_api_cxn()"
   ]
  },
  {
   "cell_type": "code",
   "execution_count": 4,
   "id": "4dd3ca75-6021-4bbd-b216-b8e8cf9d6c56",
   "metadata": {},
   "outputs": [
    {
     "name": "stdout",
     "output_type": "stream",
     "text": [
      "free_agents has been updated\n"
     ]
    }
   ],
   "source": [
    "dh.fty_get_free_agents(fty_api.free_agents(size=1000), postgres)"
   ]
  },
  {
   "cell_type": "code",
   "execution_count": null,
   "id": "506594f7-54c0-4b53-a57c-e21cf626662b",
   "metadata": {},
   "outputs": [],
   "source": []
  }
 ],
 "metadata": {
  "kernelspec": {
   "display_name": "Python 3 (ipykernel)",
   "language": "python",
   "name": "python3"
  },
  "language_info": {
   "codemirror_mode": {
    "name": "ipython",
    "version": 3
   },
   "file_extension": ".py",
   "mimetype": "text/x-python",
   "name": "python",
   "nbconvert_exporter": "python",
   "pygments_lexer": "ipython3",
   "version": "3.8.15"
  }
 },
 "nbformat": 4,
 "nbformat_minor": 5
}

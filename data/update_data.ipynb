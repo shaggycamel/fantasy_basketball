{
 "cells": [
  {
   "cell_type": "code",
   "execution_count": 1,
   "id": "11c7555e-6be7-4024-97fc-ab711bd4e068",
   "metadata": {},
   "outputs": [
    {
     "ename": "ModuleNotFoundError",
     "evalue": "No module named 'sqlalchemy'",
     "output_type": "error",
     "traceback": [
      "\u001b[0;31m---------------------------------------------------------------------------\u001b[0m",
      "\u001b[0;31mModuleNotFoundError\u001b[0m                       Traceback (most recent call last)",
      "Cell \u001b[0;32mIn[1], line 1\u001b[0m\n\u001b[0;32m----> 1\u001b[0m \u001b[38;5;28;01mfrom\u001b[39;00m \u001b[38;5;21;01mdataHub\u001b[39;00m \u001b[38;5;28;01mimport\u001b[39;00m dataHub\n\u001b[1;32m      3\u001b[0m dh \u001b[38;5;241m=\u001b[39m dataHub()\n\u001b[1;32m      4\u001b[0m postgres \u001b[38;5;241m=\u001b[39m dh\u001b[38;5;241m.\u001b[39mdb_connect()\n",
      "File \u001b[0;32m~/git/nba_basketball/data/dataHub.py:7\u001b[0m\n\u001b[1;32m      5\u001b[0m \u001b[38;5;28;01mfrom\u001b[39;00m \u001b[38;5;21;01mpathlib\u001b[39;00m \u001b[38;5;28;01mimport\u001b[39;00m Path\n\u001b[1;32m      6\u001b[0m \u001b[38;5;28;01mfrom\u001b[39;00m \u001b[38;5;21;01mpandas\u001b[39;00m \u001b[38;5;28;01mimport\u001b[39;00m DataFrame, concat\n\u001b[0;32m----> 7\u001b[0m \u001b[38;5;28;01mfrom\u001b[39;00m \u001b[38;5;21;01msqlalchemy\u001b[39;00m \u001b[38;5;28;01mimport\u001b[39;00m create_engine\n\u001b[1;32m      8\u001b[0m \u001b[38;5;28;01mfrom\u001b[39;00m \u001b[38;5;21;01mimportlib\u001b[39;00m\u001b[38;5;21;01m.\u001b[39;00m\u001b[38;5;21;01mmachinery\u001b[39;00m \u001b[38;5;28;01mimport\u001b[39;00m SourceFileLoader\n\u001b[1;32m     10\u001b[0m \u001b[38;5;66;03m# timeout = 3600 + 600 # 1hour & 10mins\u001b[39;00m\n",
      "\u001b[0;31mModuleNotFoundError\u001b[0m: No module named 'sqlalchemy'"
     ]
    }
   ],
   "source": [
    "from dataHub import dataHub\n",
    "\n",
    "dh = dataHub()\n",
    "postgres = dh.db_connect()"
   ]
  },
  {
   "cell_type": "code",
   "execution_count": 2,
   "id": "bb12532c-cb6e-46d9-9fc5-7b1c888a28eb",
   "metadata": {},
   "outputs": [],
   "source": [
    "# fty_api = dh.fty_api_cxn()"
   ]
  },
  {
   "cell_type": "code",
   "execution_count": 4,
   "id": "4dd3ca75-6021-4bbd-b216-b8e8cf9d6c56",
   "metadata": {},
   "outputs": [
    {
     "name": "stdout",
     "output_type": "stream",
     "text": [
      "free_agents has been updated\n"
     ]
    }
   ],
   "source": [
    "dh.fty_get_free_agents(fty_api.free_agents(size=1000), postgres)"
   ]
  },
  {
   "cell_type": "code",
   "execution_count": null,
   "id": "e26fe20c-f08f-4306-90f6-cd6d8d19e234",
   "metadata": {},
   "outputs": [],
   "source": []
  }
 ],
 "metadata": {
  "kernelspec": {
   "display_name": "Python 3 (ipykernel)",
   "language": "python",
   "name": "python3"
  },
  "language_info": {
   "codemirror_mode": {
    "name": "ipython",
    "version": 3
   },
   "file_extension": ".py",
   "mimetype": "text/x-python",
   "name": "python",
   "nbconvert_exporter": "python",
   "pygments_lexer": "ipython3",
   "version": "3.9.16"
  }
 },
 "nbformat": 4,
 "nbformat_minor": 5
}

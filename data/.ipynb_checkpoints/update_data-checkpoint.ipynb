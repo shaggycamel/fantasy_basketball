{
 "cells": [
  {
   "cell_type": "code",
   "execution_count": 1,
   "id": "e91b638b-16f9-404d-b272-61b12c0960a0",
   "metadata": {},
   "outputs": [],
   "source": [
    "from dataHub import dataHub\n",
    "\n",
    "dh = dataHub()\n",
    "postgres = dh.db_connect()\n",
    "fty_api = dh.fty_api_cxn()"
   ]
  },
  {
   "cell_type": "code",
   "execution_count": 4,
   "id": "90002d2e-1505-454c-bc79-f223fb81f08b",
   "metadata": {},
   "outputs": [
    {
     "name": "stdout",
     "output_type": "stream",
     "text": [
      "\n",
      "--------------------- player season stats\n",
      "player: 0 / 582\n",
      "player: 50 / 582\n",
      "player: 100 / 582\n",
      "player: 150 / 582\n",
      "player: 200 / 582\n",
      "player: 250 / 582\n",
      "player: 300 / 582\n",
      "player: 350 / 582\n",
      "player: 400 / 582\n",
      "player: 450 / 582\n",
      "player: 500 / 582\n",
      "player: 550 / 582\n",
      "player: 581 / 582\n",
      "player_season_stats has been updated\n"
     ]
    }
   ],
   "source": [
    "# dh.nba_api('player_game_log', postgres)"
   ]
  },
  {
   "cell_type": "code",
   "execution_count": null,
   "id": "4dd3ca75-6021-4bbd-b216-b8e8cf9d6c56",
   "metadata": {},
   "outputs": [],
   "source": []
  }
 ],
 "metadata": {
  "kernelspec": {
   "display_name": "Python 3 (ipykernel)",
   "language": "python",
   "name": "python3"
  },
  "language_info": {
   "codemirror_mode": {
    "name": "ipython",
    "version": 3
   },
   "file_extension": ".py",
   "mimetype": "text/x-python",
   "name": "python",
   "nbconvert_exporter": "python",
   "pygments_lexer": "ipython3",
   "version": "3.8.15"
  }
 },
 "nbformat": 4,
 "nbformat_minor": 5
}
